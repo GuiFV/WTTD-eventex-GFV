{
 "cells": [
  {
   "cell_type": "raw",
   "id": "00fd1140",
   "metadata": {},
   "source": [
    "General Notes:\n",
    "\n",
    "python manage.py shell and python manage.py shell_plus\n"
   ]
  },
  {
   "cell_type": "code",
   "execution_count": 5,
   "id": "0011a947",
   "metadata": {},
   "outputs": [],
   "source": [
    "import django"
   ]
  },
  {
   "cell_type": "code",
   "execution_count": 6,
   "id": "14e62a8c",
   "metadata": {},
   "outputs": [
    {
     "data": {
      "text/plain": [
       "<module 'django' from '/Users/guilhermeviotti/Documents/+PRO/+CODING/+WTTD/3-WTTD/wttd/.wttd/lib/python3.9/site-packages/django/__init__.py'>"
      ]
     },
     "execution_count": 6,
     "metadata": {},
     "output_type": "execute_result"
    }
   ],
   "source": [
    "django"
   ]
  },
  {
   "cell_type": "markdown",
   "id": "0d31f33c",
   "metadata": {},
   "source": [
    "## URL Conf"
   ]
  },
  {
   "cell_type": "raw",
   "id": "3ac085db",
   "metadata": {},
   "source": [
    "scheme:[//[user:password@]host[:port]][/]path[?query][#fragment]"
   ]
  },
  {
   "cell_type": "raw",
   "id": "acaf1a44",
   "metadata": {},
   "source": [
    "https://idetra.org:80/page1/detail.html?name=bla&color=255,0,0&another=yeah#anchor"
   ]
  },
  {
   "cell_type": "raw",
   "id": "2c934837",
   "metadata": {},
   "source": [
    "path == /page1/detail.html"
   ]
  },
  {
   "cell_type": "raw",
   "id": "63d7145f",
   "metadata": {},
   "source": [
    "segmentos == idetra.org page1 detail.html"
   ]
  },
  {
   "cell_type": "markdown",
   "id": "7eda1826",
   "metadata": {},
   "source": [
    "<b>Slug:"
   ]
  },
  {
   "cell_type": "raw",
   "id": "9e3a3e0b",
   "metadata": {},
   "source": [
    "hey, Hi, FUCK off! açucar\n",
    "\n",
    "becomes:\n",
    "\n",
    "hey-hi-fuck-off-acucar"
   ]
  },
  {
   "cell_type": "markdown",
   "id": "4e5b86e6",
   "metadata": {},
   "source": [
    "<b>Slug in action:"
   ]
  },
  {
   "cell_type": "code",
   "execution_count": 1,
   "id": "0d4f78a8",
   "metadata": {},
   "outputs": [],
   "source": [
    "from django.conf import settings"
   ]
  },
  {
   "cell_type": "code",
   "execution_count": 3,
   "id": "fe352b9f",
   "metadata": {},
   "outputs": [],
   "source": [
    "from django.urls import resolve, reverse\n",
    "# resolve: from a string (path of route) find out the view, params, etc\n",
    "# reverse: from view with params, composes route as a string"
   ]
  },
  {
   "cell_type": "code",
   "execution_count": 4,
   "id": "c533f909",
   "metadata": {},
   "outputs": [
    {
     "data": {
      "text/plain": [
       "ResolverMatch(func=eventex.subscriptions.views.detail, args=(), kwargs={'pk': 1}, url_name=None, app_names=[], namespaces=[], route=inscricao/<int:pk>/)"
      ]
     },
     "execution_count": 4,
     "metadata": {},
     "output_type": "execute_result"
    }
   ],
   "source": [
    "resolve('/inscricao/1/')"
   ]
  },
  {
   "cell_type": "code",
   "execution_count": 5,
   "id": "0628bf63",
   "metadata": {},
   "outputs": [],
   "source": [
    "from eventex.subscriptions.views import subscribe, detail"
   ]
  },
  {
   "cell_type": "code",
   "execution_count": 6,
   "id": "dfd9d417",
   "metadata": {},
   "outputs": [
    {
     "data": {
      "text/plain": [
       "'/inscricao/'"
      ]
     },
     "execution_count": 6,
     "metadata": {},
     "output_type": "execute_result"
    }
   ],
   "source": [
    "reverse(subscribe)"
   ]
  },
  {
   "cell_type": "code",
   "execution_count": 8,
   "id": "8626d06a",
   "metadata": {},
   "outputs": [
    {
     "data": {
      "text/plain": [
       "'/inscricao/1/'"
      ]
     },
     "execution_count": 8,
     "metadata": {},
     "output_type": "execute_result"
    }
   ],
   "source": [
    "reverse(detail, args=[1]) # takes one param"
   ]
  },
  {
   "cell_type": "markdown",
   "id": "684fc92f",
   "metadata": {},
   "source": [
    "<b>Url resolver: the engine behind URL CONF"
   ]
  },
  {
   "cell_type": "code",
   "execution_count": 9,
   "id": "ded5d3f3",
   "metadata": {},
   "outputs": [],
   "source": [
    "from django.urls import get_resolver"
   ]
  },
  {
   "cell_type": "code",
   "execution_count": 10,
   "id": "a3df7f4d",
   "metadata": {},
   "outputs": [],
   "source": [
    "r = get_resolver()"
   ]
  },
  {
   "cell_type": "code",
   "execution_count": 11,
   "id": "bbaca4d4",
   "metadata": {},
   "outputs": [
    {
     "data": {
      "text/plain": [
       "<URLResolver 'eventex.urls' (None:None) '^/'>"
      ]
     },
     "execution_count": 11,
     "metadata": {},
     "output_type": "execute_result"
    }
   ],
   "source": [
    "r # loads ROOT_URL_CONF from settings.py and its main url"
   ]
  },
  {
   "cell_type": "code",
   "execution_count": 12,
   "id": "c66432ab",
   "metadata": {},
   "outputs": [
    {
     "data": {
      "text/plain": [
       "[<URLPattern ''>,\n",
       " <URLPattern 'inscricao/'>,\n",
       " <URLPattern 'inscricao/<int:pk>/'>,\n",
       " <URLResolver <URLPattern list> (admin:admin) 'admin/'>]"
      ]
     },
     "execution_count": 12,
     "metadata": {},
     "output_type": "execute_result"
    }
   ],
   "source": [
    "r.url_patterns"
   ]
  },
  {
   "cell_type": "code",
   "execution_count": 13,
   "id": "7c661771",
   "metadata": {},
   "outputs": [],
   "source": [
    "import eventex.urls"
   ]
  },
  {
   "cell_type": "code",
   "execution_count": 15,
   "id": "02976fea",
   "metadata": {},
   "outputs": [
    {
     "data": {
      "text/plain": [
       "[<URLPattern ''>,\n",
       " <URLPattern 'inscricao/'>,\n",
       " <URLPattern 'inscricao/<int:pk>/'>,\n",
       " <URLResolver <URLPattern list> (admin:admin) 'admin/'>]"
      ]
     },
     "execution_count": 15,
     "metadata": {},
     "output_type": "execute_result"
    }
   ],
   "source": [
    "eventex.urls.urlpatterns"
   ]
  },
  {
   "cell_type": "markdown",
   "id": "4d407390",
   "metadata": {},
   "source": [
    "<b>Path Converters:"
   ]
  },
  {
   "cell_type": "code",
   "execution_count": 16,
   "id": "4563be7a",
   "metadata": {},
   "outputs": [],
   "source": [
    "from django.urls import register_converter, path"
   ]
  },
  {
   "cell_type": "code",
   "execution_count": 27,
   "id": "98760ac8",
   "metadata": {},
   "outputs": [],
   "source": [
    "class FourDigitYearConverter:\n",
    "    regex = '[0-9]{4}'\n",
    "    def to_python(self, value):\n",
    "        return int(value)\n",
    "    def to_url(self, value):\n",
    "        return '{:04d}'.format(value) # adds zero when number is small"
   ]
  },
  {
   "cell_type": "code",
   "execution_count": 28,
   "id": "8abc9bb1",
   "metadata": {},
   "outputs": [],
   "source": [
    "register_converter(FourDigitYearConverter, 'yyyy')"
   ]
  },
  {
   "cell_type": "code",
   "execution_count": 29,
   "id": "0c99a873",
   "metadata": {},
   "outputs": [],
   "source": [
    " def view(request): pass"
   ]
  },
  {
   "cell_type": "code",
   "execution_count": 30,
   "id": "8d041c52",
   "metadata": {},
   "outputs": [],
   "source": [
    "urlpatterns = (path('turmas/<yyyy:ano>/', view),)"
   ]
  },
  {
   "cell_type": "code",
   "execution_count": 31,
   "id": "dc60dae2",
   "metadata": {},
   "outputs": [],
   "source": [
    "r = get_resolver(urlpatterns)"
   ]
  },
  {
   "cell_type": "code",
   "execution_count": 32,
   "id": "c22f4e8d",
   "metadata": {},
   "outputs": [
    {
     "data": {
      "text/plain": [
       "<URLResolver (<URLPattern 'turmas/<yyyy:ano>/'>,) (None:None) '^/'>"
      ]
     },
     "execution_count": 32,
     "metadata": {},
     "output_type": "execute_result"
    }
   ],
   "source": [
    "r"
   ]
  },
  {
   "cell_type": "code",
   "execution_count": 33,
   "id": "a76fb260",
   "metadata": {},
   "outputs": [
    {
     "data": {
      "text/plain": [
       "ResolverMatch(func=__main__.view, args=(), kwargs={'ano': 1999}, url_name=None, app_names=[], namespaces=[], route=turmas/<yyyy:ano>/)"
      ]
     },
     "execution_count": 33,
     "metadata": {},
     "output_type": "execute_result"
    }
   ],
   "source": [
    "r.resolve('/turmas/1999/') # year comes as int"
   ]
  },
  {
   "cell_type": "code",
   "execution_count": 34,
   "id": "8e8c8aee",
   "metadata": {},
   "outputs": [],
   "source": [
    "from django.urls import re_path"
   ]
  },
  {
   "cell_type": "code",
   "execution_count": 40,
   "id": "5b301543",
   "metadata": {},
   "outputs": [],
   "source": [
    "urlpatterns = (re_path(r'^turmas/(?P<ano>[0-9]{4})/$', view),)"
   ]
  },
  {
   "cell_type": "code",
   "execution_count": 41,
   "id": "44b7e0f3",
   "metadata": {},
   "outputs": [],
   "source": [
    " r = get_resolver(urlpatterns)"
   ]
  },
  {
   "cell_type": "code",
   "execution_count": 42,
   "id": "e38a24d9",
   "metadata": {},
   "outputs": [
    {
     "data": {
      "text/plain": [
       "<URLResolver (<URLPattern '^turmas/(?P<ano>[0-9]{4})/$'>,) (None:None) '^/'>"
      ]
     },
     "execution_count": 42,
     "metadata": {},
     "output_type": "execute_result"
    }
   ],
   "source": [
    "r"
   ]
  },
  {
   "cell_type": "code",
   "execution_count": 43,
   "id": "d5ab9ac3",
   "metadata": {},
   "outputs": [
    {
     "data": {
      "text/plain": [
       "ResolverMatch(func=__main__.view, args=(), kwargs={'ano': '1999'}, url_name=None, app_names=[], namespaces=[], route=^turmas/(?P<ano>[0-9]{4})/$)"
      ]
     },
     "execution_count": 43,
     "metadata": {},
     "output_type": "execute_result"
    }
   ],
   "source": [
    "r.resolve('/turmas/1999/') # year will come back as a string. might need to change it to int in the view"
   ]
  },
  {
   "cell_type": "markdown",
   "id": "5af90c66",
   "metadata": {},
   "source": [
    "## Routing"
   ]
  },
  {
   "cell_type": "raw",
   "id": "859e0204",
   "metadata": {},
   "source": [
    "NoReverseMatch == Can't find a path/view based on a name being called as the view nickname"
   ]
  },
  {
   "cell_type": "markdown",
   "id": "2aa3a6e2",
   "metadata": {},
   "source": [
    "## Templates  "
   ]
  },
  {
   "cell_type": "raw",
   "id": "c0d41dee",
   "metadata": {},
   "source": [
    "Template Variables: {{ variavel-de-contexto.quem-é-issoa-aqui-dentro-do-objeto'variavel-de-contexto' }}\n",
    "\n",
    "{{ subscription.name }}\n",
    "\n",
    "ele tenta:\n",
    "\n",
    "1 - subscription['name'] (se nao for chave em um dict 'subscription', tenta:)\n",
    "2 - subscription.name (se nao for atributo do objeto subscription, tenta:)\n",
    "3 - subscription.name() (lembrando que nao tem como passar variavel. se for funcao sendo chamada, so pode funcao que nao precise de parametros)\n",
    "\n",
    "Template Filters: do pipe em diante: {{ subscription.created_at|date:\"d/m/Y\" }}\n",
    "\n",
    "date = filtro\n",
    "d/m/Y = parametro enviado pro filtro\n",
    "\n",
    "(da pra criar seu proprio template filter)\n",
    "\n",
    "da pra colocar filter dntro de filter:\n",
    "\n",
    "{{ text|escape|linebreaks }}\n",
    "{{ text|truncatewords:\"30\" }}\n",
    "\n",
    "Template Tags: \n",
    "simples: (não possui sub-nós)\n",
    "{% static %}\n",
    "complexo: (possui sub-nós)\n",
    "{% if subscription.phone %}\n",
    "{% else %}\n",
    "{% endif %}"
   ]
  },
  {
   "cell_type": "raw",
   "id": "5b577b91",
   "metadata": {},
   "source": [
    "Template Nodes:\n",
    "\n",
    "Django cria um objeto template na memoria e dentro do objeto ele gera nodes.\n",
    "Os nodes sao:\n",
    "(node1)\n",
    "<!DOCTYPE HTML ....\n",
    "...<h1> parabéns(fim node1)(inicio node2){{ subscription.name }}(fim node2)(inicio node 3)texto texto texto\n",
    "fim3, inicio 4{{ if }}{{ else }}{{ endif }}fim node4, inicio5, etc"
   ]
  },
  {
   "cell_type": "code",
   "execution_count": null,
   "id": "19b3125e",
   "metadata": {},
   "outputs": [],
   "source": []
  }
 ],
 "metadata": {
  "kernelspec": {
   "display_name": "Django Shell-Plus",
   "language": "python",
   "name": "django_extensions"
  },
  "language_info": {
   "codemirror_mode": {
    "name": "ipython",
    "version": 3
   },
   "file_extension": ".py",
   "mimetype": "text/x-python",
   "name": "python",
   "nbconvert_exporter": "python",
   "pygments_lexer": "ipython3",
   "version": "3.9.7"
  }
 },
 "nbformat": 4,
 "nbformat_minor": 5
}
