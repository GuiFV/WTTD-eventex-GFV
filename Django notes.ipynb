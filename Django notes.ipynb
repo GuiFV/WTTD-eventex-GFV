{
 "cells": [
  {
   "cell_type": "raw",
   "id": "51462d3a",
   "metadata": {},
   "source": [
    "General Notes:\n",
    "\n",
    "python manage.py shell and python manage.py shell_plus\n"
   ]
  },
  {
   "cell_type": "code",
   "execution_count": 5,
   "id": "0011a947",
   "metadata": {},
   "outputs": [],
   "source": [
    "import django"
   ]
  },
  {
   "cell_type": "code",
   "execution_count": 6,
   "id": "14e62a8c",
   "metadata": {},
   "outputs": [
    {
     "data": {
      "text/plain": [
       "<module 'django' from '/Users/guilhermeviotti/Documents/+PRO/+CODING/+WTTD/3-WTTD/wttd/.wttd/lib/python3.9/site-packages/django/__init__.py'>"
      ]
     },
     "execution_count": 6,
     "metadata": {},
     "output_type": "execute_result"
    }
   ],
   "source": [
    "django"
   ]
  },
  {
   "cell_type": "markdown",
   "id": "0d31f33c",
   "metadata": {},
   "source": [
    "## URL Conf"
   ]
  },
  {
   "cell_type": "raw",
   "id": "3ac085db",
   "metadata": {},
   "source": [
    "scheme:[//[user:password@]host[:port]][/]path[?query][#fragment]"
   ]
  },
  {
   "cell_type": "raw",
   "id": "acaf1a44",
   "metadata": {},
   "source": [
    "https://idetra.org:80/page1/detail.html?name=bla&color=255,0,0&another=yeah#anchor"
   ]
  },
  {
   "cell_type": "raw",
   "id": "2c934837",
   "metadata": {},
   "source": [
    "path == /page1/detail.html"
   ]
  },
  {
   "cell_type": "raw",
   "id": "63d7145f",
   "metadata": {},
   "source": [
    "segmentos == idetra.org page1 detail.html"
   ]
  },
  {
   "cell_type": "markdown",
   "id": "7eda1826",
   "metadata": {},
   "source": [
    "<b>Slug:"
   ]
  },
  {
   "cell_type": "raw",
   "id": "9e3a3e0b",
   "metadata": {},
   "source": [
    "hey, Hi, FUCK off! açucar\n",
    "\n",
    "becomes:\n",
    "\n",
    "hey-hi-fuck-off-acucar"
   ]
  },
  {
   "cell_type": "markdown",
   "id": "fa99b918",
   "metadata": {},
   "source": [
    "<b>Slug in action:"
   ]
  },
  {
   "cell_type": "code",
   "execution_count": 1,
   "id": "aaf2f482",
   "metadata": {},
   "outputs": [],
   "source": [
    "from django.conf import settings"
   ]
  },
  {
   "cell_type": "code",
   "execution_count": 3,
   "id": "bae4ff59",
   "metadata": {},
   "outputs": [],
   "source": [
    "from django.urls import resolve, reverse\n",
    "# resolve: from a string (path of route) find out the view, params, etc\n",
    "# reverse: from view with params, composes route as a string"
   ]
  },
  {
   "cell_type": "code",
   "execution_count": 4,
   "id": "259099c4",
   "metadata": {},
   "outputs": [
    {
     "data": {
      "text/plain": [
       "ResolverMatch(func=eventex.subscriptions.views.detail, args=(), kwargs={'pk': 1}, url_name=None, app_names=[], namespaces=[], route=inscricao/<int:pk>/)"
      ]
     },
     "execution_count": 4,
     "metadata": {},
     "output_type": "execute_result"
    }
   ],
   "source": [
    "resolve('/inscricao/1/')"
   ]
  },
  {
   "cell_type": "code",
   "execution_count": 5,
   "id": "4c50c6e7",
   "metadata": {},
   "outputs": [],
   "source": [
    "from eventex.subscriptions.views import subscribe, detail"
   ]
  },
  {
   "cell_type": "code",
   "execution_count": 6,
   "id": "ce9aff84",
   "metadata": {},
   "outputs": [
    {
     "data": {
      "text/plain": [
       "'/inscricao/'"
      ]
     },
     "execution_count": 6,
     "metadata": {},
     "output_type": "execute_result"
    }
   ],
   "source": [
    "reverse(subscribe)"
   ]
  },
  {
   "cell_type": "code",
   "execution_count": 8,
   "id": "625da34e",
   "metadata": {},
   "outputs": [
    {
     "data": {
      "text/plain": [
       "'/inscricao/1/'"
      ]
     },
     "execution_count": 8,
     "metadata": {},
     "output_type": "execute_result"
    }
   ],
   "source": [
    "reverse(detail, args=[1]) # takes one param"
   ]
  },
  {
   "cell_type": "markdown",
   "id": "8921c51b",
   "metadata": {},
   "source": [
    "<b>Url resolver: the engine behind URL CONF"
   ]
  },
  {
   "cell_type": "code",
   "execution_count": 9,
   "id": "1f76073d",
   "metadata": {},
   "outputs": [],
   "source": [
    "from django.urls import get_resolver"
   ]
  },
  {
   "cell_type": "code",
   "execution_count": 10,
   "id": "4c67c6dc",
   "metadata": {},
   "outputs": [],
   "source": [
    "r = get_resolver()"
   ]
  },
  {
   "cell_type": "code",
   "execution_count": 11,
   "id": "3d3fb06c",
   "metadata": {},
   "outputs": [
    {
     "data": {
      "text/plain": [
       "<URLResolver 'eventex.urls' (None:None) '^/'>"
      ]
     },
     "execution_count": 11,
     "metadata": {},
     "output_type": "execute_result"
    }
   ],
   "source": [
    "r # loads ROOT_URL_CONF from settings.py and its main url"
   ]
  },
  {
   "cell_type": "code",
   "execution_count": 12,
   "id": "26fee8d3",
   "metadata": {},
   "outputs": [
    {
     "data": {
      "text/plain": [
       "[<URLPattern ''>,\n",
       " <URLPattern 'inscricao/'>,\n",
       " <URLPattern 'inscricao/<int:pk>/'>,\n",
       " <URLResolver <URLPattern list> (admin:admin) 'admin/'>]"
      ]
     },
     "execution_count": 12,
     "metadata": {},
     "output_type": "execute_result"
    }
   ],
   "source": [
    "r.url_patterns"
   ]
  },
  {
   "cell_type": "code",
   "execution_count": 13,
   "id": "dbe7e702",
   "metadata": {},
   "outputs": [],
   "source": [
    "import eventex.urls"
   ]
  },
  {
   "cell_type": "code",
   "execution_count": 15,
   "id": "83505ec4",
   "metadata": {},
   "outputs": [
    {
     "data": {
      "text/plain": [
       "[<URLPattern ''>,\n",
       " <URLPattern 'inscricao/'>,\n",
       " <URLPattern 'inscricao/<int:pk>/'>,\n",
       " <URLResolver <URLPattern list> (admin:admin) 'admin/'>]"
      ]
     },
     "execution_count": 15,
     "metadata": {},
     "output_type": "execute_result"
    }
   ],
   "source": [
    "eventex.urls.urlpatterns"
   ]
  },
  {
   "cell_type": "markdown",
   "id": "ffcc52b4",
   "metadata": {},
   "source": [
    "<b>Path Converters:"
   ]
  },
  {
   "cell_type": "code",
   "execution_count": 16,
   "id": "839267ef",
   "metadata": {},
   "outputs": [],
   "source": [
    "from django.urls import register_converter, path"
   ]
  },
  {
   "cell_type": "code",
   "execution_count": 27,
   "id": "e7388879",
   "metadata": {},
   "outputs": [],
   "source": [
    "class FourDigitYearConverter:\n",
    "    regex = '[0-9]{4}'\n",
    "    def to_python(self, value):\n",
    "        return int(value)\n",
    "    def to_url(self, value):\n",
    "        return '{:04d}'.format(value) # adds zero when number is small"
   ]
  },
  {
   "cell_type": "code",
   "execution_count": 28,
   "id": "a7028fb8",
   "metadata": {},
   "outputs": [],
   "source": [
    "register_converter(FourDigitYearConverter, 'yyyy')"
   ]
  },
  {
   "cell_type": "code",
   "execution_count": 29,
   "id": "c0395e35",
   "metadata": {},
   "outputs": [],
   "source": [
    " def view(request): pass"
   ]
  },
  {
   "cell_type": "code",
   "execution_count": 30,
   "id": "5e31ab4e",
   "metadata": {},
   "outputs": [],
   "source": [
    "urlpatterns = (path('turmas/<yyyy:ano>/', view),)"
   ]
  },
  {
   "cell_type": "code",
   "execution_count": 31,
   "id": "f86d2778",
   "metadata": {},
   "outputs": [],
   "source": [
    "r = get_resolver(urlpatterns)"
   ]
  },
  {
   "cell_type": "code",
   "execution_count": 32,
   "id": "b4b9d605",
   "metadata": {},
   "outputs": [
    {
     "data": {
      "text/plain": [
       "<URLResolver (<URLPattern 'turmas/<yyyy:ano>/'>,) (None:None) '^/'>"
      ]
     },
     "execution_count": 32,
     "metadata": {},
     "output_type": "execute_result"
    }
   ],
   "source": [
    "r"
   ]
  },
  {
   "cell_type": "code",
   "execution_count": 33,
   "id": "312fc3d8",
   "metadata": {},
   "outputs": [
    {
     "data": {
      "text/plain": [
       "ResolverMatch(func=__main__.view, args=(), kwargs={'ano': 1999}, url_name=None, app_names=[], namespaces=[], route=turmas/<yyyy:ano>/)"
      ]
     },
     "execution_count": 33,
     "metadata": {},
     "output_type": "execute_result"
    }
   ],
   "source": [
    "r.resolve('/turmas/1999/') # year comes as int"
   ]
  },
  {
   "cell_type": "code",
   "execution_count": 34,
   "id": "032d7a24",
   "metadata": {},
   "outputs": [],
   "source": [
    "from django.urls import re_path"
   ]
  },
  {
   "cell_type": "code",
   "execution_count": 40,
   "id": "815b9adc",
   "metadata": {},
   "outputs": [],
   "source": [
    "urlpatterns = (re_path(r'^turmas/(?P<ano>[0-9]{4})/$', view),)"
   ]
  },
  {
   "cell_type": "code",
   "execution_count": 41,
   "id": "ee8933e8",
   "metadata": {},
   "outputs": [],
   "source": [
    " r = get_resolver(urlpatterns)"
   ]
  },
  {
   "cell_type": "code",
   "execution_count": 42,
   "id": "691321f3",
   "metadata": {},
   "outputs": [
    {
     "data": {
      "text/plain": [
       "<URLResolver (<URLPattern '^turmas/(?P<ano>[0-9]{4})/$'>,) (None:None) '^/'>"
      ]
     },
     "execution_count": 42,
     "metadata": {},
     "output_type": "execute_result"
    }
   ],
   "source": [
    "r"
   ]
  },
  {
   "cell_type": "code",
   "execution_count": 43,
   "id": "ad35a825",
   "metadata": {},
   "outputs": [
    {
     "data": {
      "text/plain": [
       "ResolverMatch(func=__main__.view, args=(), kwargs={'ano': '1999'}, url_name=None, app_names=[], namespaces=[], route=^turmas/(?P<ano>[0-9]{4})/$)"
      ]
     },
     "execution_count": 43,
     "metadata": {},
     "output_type": "execute_result"
    }
   ],
   "source": [
    "r.resolve('/turmas/1999/') # year will come back as a string. might need to change it to int in the view"
   ]
  },
  {
   "cell_type": "markdown",
   "id": "d9eef014",
   "metadata": {},
   "source": [
    "## Routing"
   ]
  },
  {
   "cell_type": "raw",
   "id": "5909cecd",
   "metadata": {},
   "source": [
    "NoReverseMatch == Can't find a path/view based on a name being called as the view nickname"
   ]
  },
  {
   "cell_type": "code",
   "execution_count": null,
   "id": "cf389519",
   "metadata": {},
   "outputs": [],
   "source": []
  }
 ],
 "metadata": {
  "kernelspec": {
   "display_name": "Django Shell-Plus",
   "language": "python",
   "name": "django_extensions"
  },
  "language_info": {
   "codemirror_mode": {
    "name": "ipython",
    "version": 3
   },
   "file_extension": ".py",
   "mimetype": "text/x-python",
   "name": "python",
   "nbconvert_exporter": "python",
   "pygments_lexer": "ipython3",
   "version": "3.9.7"
  }
 },
 "nbformat": 4,
 "nbformat_minor": 5
}
