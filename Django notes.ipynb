{
 "cells": [
  {
   "cell_type": "raw",
   "id": "00fd1140",
   "metadata": {},
   "source": [
    "General Notes:\n",
    "\n",
    "python manage.py shell\n",
    "python manage.py shell_plus\n",
    "python manage.py shell_plus --notebook\n",
    "\n"
   ]
  },
  {
   "cell_type": "code",
   "execution_count": 1,
   "id": "0011a947",
   "metadata": {},
   "outputs": [],
   "source": [
    "import django"
   ]
  },
  {
   "cell_type": "code",
   "execution_count": 6,
   "id": "14e62a8c",
   "metadata": {},
   "outputs": [
    {
     "data": {
      "text/plain": [
       "<module 'django' from '/Users/guilhermeviotti/Documents/+PRO/+CODING/+WTTD/3-WTTD/wttd/.wttd/lib/python3.9/site-packages/django/__init__.py'>"
      ]
     },
     "execution_count": 6,
     "metadata": {},
     "output_type": "execute_result"
    }
   ],
   "source": [
    "django"
   ]
  },
  {
   "cell_type": "markdown",
   "id": "0d31f33c",
   "metadata": {},
   "source": [
    "## URL Conf"
   ]
  },
  {
   "cell_type": "raw",
   "id": "3ac085db",
   "metadata": {},
   "source": [
    "scheme:[//[user:password@]host[:port]][/]path[?query][#fragment]"
   ]
  },
  {
   "cell_type": "raw",
   "id": "acaf1a44",
   "metadata": {},
   "source": [
    "https://idetra.org:80/page1/detail.html?name=bla&color=255,0,0&another=yeah#anchor"
   ]
  },
  {
   "cell_type": "raw",
   "id": "2c934837",
   "metadata": {},
   "source": [
    "path == /page1/detail.html"
   ]
  },
  {
   "cell_type": "raw",
   "id": "63d7145f",
   "metadata": {},
   "source": [
    "segmentos == idetra.org page1 detail.html"
   ]
  },
  {
   "cell_type": "markdown",
   "id": "7eda1826",
   "metadata": {},
   "source": [
    "<b>Slug:"
   ]
  },
  {
   "cell_type": "raw",
   "id": "9e3a3e0b",
   "metadata": {},
   "source": [
    "hey, Hi, FUCK off! açucar\n",
    "\n",
    "becomes:\n",
    "\n",
    "hey-hi-fuck-off-acucar"
   ]
  },
  {
   "cell_type": "markdown",
   "id": "4e5b86e6",
   "metadata": {},
   "source": [
    "<b>Slug in action:"
   ]
  },
  {
   "cell_type": "code",
   "execution_count": 2,
   "id": "0d4f78a8",
   "metadata": {},
   "outputs": [],
   "source": [
    "from django.conf import settings"
   ]
  },
  {
   "cell_type": "code",
   "execution_count": 3,
   "id": "fe352b9f",
   "metadata": {},
   "outputs": [],
   "source": [
    "from django.urls import resolve, reverse\n",
    "# resolve: from a string (path of route) find out the view, params, etc\n",
    "# reverse: from view with params, composes route as a string"
   ]
  },
  {
   "cell_type": "code",
   "execution_count": 4,
   "id": "c533f909",
   "metadata": {},
   "outputs": [
    {
     "data": {
      "text/plain": [
       "ResolverMatch(func=eventex.subscriptions.views.detail, args=(), kwargs={'pk': 1}, url_name=None, app_names=[], namespaces=[], route=inscricao/<int:pk>/)"
      ]
     },
     "execution_count": 4,
     "metadata": {},
     "output_type": "execute_result"
    }
   ],
   "source": [
    "resolve('/inscricao/1/')"
   ]
  },
  {
   "cell_type": "code",
   "execution_count": 5,
   "id": "0628bf63",
   "metadata": {},
   "outputs": [],
   "source": [
    "from eventex.subscriptions.views import subscribe, detail"
   ]
  },
  {
   "cell_type": "code",
   "execution_count": 6,
   "id": "dfd9d417",
   "metadata": {},
   "outputs": [
    {
     "data": {
      "text/plain": [
       "'/inscricao/'"
      ]
     },
     "execution_count": 6,
     "metadata": {},
     "output_type": "execute_result"
    }
   ],
   "source": [
    "reverse(subscribe)"
   ]
  },
  {
   "cell_type": "code",
   "execution_count": 8,
   "id": "8626d06a",
   "metadata": {},
   "outputs": [
    {
     "data": {
      "text/plain": [
       "'/inscricao/1/'"
      ]
     },
     "execution_count": 8,
     "metadata": {},
     "output_type": "execute_result"
    }
   ],
   "source": [
    "reverse(detail, args=[1]) # takes one param"
   ]
  },
  {
   "cell_type": "markdown",
   "id": "684fc92f",
   "metadata": {},
   "source": [
    "<b>Url resolver: the engine behind URL CONF"
   ]
  },
  {
   "cell_type": "code",
   "execution_count": 9,
   "id": "ded5d3f3",
   "metadata": {},
   "outputs": [],
   "source": [
    "from django.urls import get_resolver"
   ]
  },
  {
   "cell_type": "code",
   "execution_count": 10,
   "id": "a3df7f4d",
   "metadata": {},
   "outputs": [],
   "source": [
    "r = get_resolver()"
   ]
  },
  {
   "cell_type": "code",
   "execution_count": 11,
   "id": "bbaca4d4",
   "metadata": {},
   "outputs": [
    {
     "data": {
      "text/plain": [
       "<URLResolver 'eventex.urls' (None:None) '^/'>"
      ]
     },
     "execution_count": 11,
     "metadata": {},
     "output_type": "execute_result"
    }
   ],
   "source": [
    "r # loads ROOT_URL_CONF from settings.py and its main url"
   ]
  },
  {
   "cell_type": "code",
   "execution_count": 12,
   "id": "c66432ab",
   "metadata": {},
   "outputs": [
    {
     "data": {
      "text/plain": [
       "[<URLPattern ''>,\n",
       " <URLPattern 'inscricao/'>,\n",
       " <URLPattern 'inscricao/<int:pk>/'>,\n",
       " <URLResolver <URLPattern list> (admin:admin) 'admin/'>]"
      ]
     },
     "execution_count": 12,
     "metadata": {},
     "output_type": "execute_result"
    }
   ],
   "source": [
    "r.url_patterns"
   ]
  },
  {
   "cell_type": "code",
   "execution_count": 13,
   "id": "7c661771",
   "metadata": {},
   "outputs": [],
   "source": [
    "import eventex.urls"
   ]
  },
  {
   "cell_type": "code",
   "execution_count": 15,
   "id": "02976fea",
   "metadata": {},
   "outputs": [
    {
     "data": {
      "text/plain": [
       "[<URLPattern ''>,\n",
       " <URLPattern 'inscricao/'>,\n",
       " <URLPattern 'inscricao/<int:pk>/'>,\n",
       " <URLResolver <URLPattern list> (admin:admin) 'admin/'>]"
      ]
     },
     "execution_count": 15,
     "metadata": {},
     "output_type": "execute_result"
    }
   ],
   "source": [
    "eventex.urls.urlpatterns"
   ]
  },
  {
   "cell_type": "markdown",
   "id": "4d407390",
   "metadata": {},
   "source": [
    "<b>Path Converters:"
   ]
  },
  {
   "cell_type": "code",
   "execution_count": 16,
   "id": "4563be7a",
   "metadata": {},
   "outputs": [],
   "source": [
    "from django.urls import register_converter, path"
   ]
  },
  {
   "cell_type": "code",
   "execution_count": 27,
   "id": "98760ac8",
   "metadata": {},
   "outputs": [],
   "source": [
    "class FourDigitYearConverter:\n",
    "    regex = '[0-9]{4}'\n",
    "    def to_python(self, value):\n",
    "        return int(value)\n",
    "    def to_url(self, value):\n",
    "        return '{:04d}'.format(value) # adds zero when number is small"
   ]
  },
  {
   "cell_type": "code",
   "execution_count": 28,
   "id": "8abc9bb1",
   "metadata": {},
   "outputs": [],
   "source": [
    "register_converter(FourDigitYearConverter, 'yyyy')"
   ]
  },
  {
   "cell_type": "code",
   "execution_count": 29,
   "id": "0c99a873",
   "metadata": {},
   "outputs": [],
   "source": [
    " def view(request): pass"
   ]
  },
  {
   "cell_type": "code",
   "execution_count": 30,
   "id": "8d041c52",
   "metadata": {},
   "outputs": [],
   "source": [
    "urlpatterns = (path('turmas/<yyyy:ano>/', view),)"
   ]
  },
  {
   "cell_type": "code",
   "execution_count": 31,
   "id": "dc60dae2",
   "metadata": {},
   "outputs": [],
   "source": [
    "r = get_resolver(urlpatterns)"
   ]
  },
  {
   "cell_type": "code",
   "execution_count": 32,
   "id": "c22f4e8d",
   "metadata": {},
   "outputs": [
    {
     "data": {
      "text/plain": [
       "<URLResolver (<URLPattern 'turmas/<yyyy:ano>/'>,) (None:None) '^/'>"
      ]
     },
     "execution_count": 32,
     "metadata": {},
     "output_type": "execute_result"
    }
   ],
   "source": [
    "r"
   ]
  },
  {
   "cell_type": "code",
   "execution_count": 33,
   "id": "a76fb260",
   "metadata": {},
   "outputs": [
    {
     "data": {
      "text/plain": [
       "ResolverMatch(func=__main__.view, args=(), kwargs={'ano': 1999}, url_name=None, app_names=[], namespaces=[], route=turmas/<yyyy:ano>/)"
      ]
     },
     "execution_count": 33,
     "metadata": {},
     "output_type": "execute_result"
    }
   ],
   "source": [
    "r.resolve('/turmas/1999/') # year comes as int"
   ]
  },
  {
   "cell_type": "code",
   "execution_count": 34,
   "id": "8e8c8aee",
   "metadata": {},
   "outputs": [],
   "source": [
    "from django.urls import re_path"
   ]
  },
  {
   "cell_type": "code",
   "execution_count": 40,
   "id": "5b301543",
   "metadata": {},
   "outputs": [],
   "source": [
    "urlpatterns = (re_path(r'^turmas/(?P<ano>[0-9]{4})/$', view),)"
   ]
  },
  {
   "cell_type": "code",
   "execution_count": 41,
   "id": "44b7e0f3",
   "metadata": {},
   "outputs": [],
   "source": [
    " r = get_resolver(urlpatterns)"
   ]
  },
  {
   "cell_type": "code",
   "execution_count": 42,
   "id": "e38a24d9",
   "metadata": {},
   "outputs": [
    {
     "data": {
      "text/plain": [
       "<URLResolver (<URLPattern '^turmas/(?P<ano>[0-9]{4})/$'>,) (None:None) '^/'>"
      ]
     },
     "execution_count": 42,
     "metadata": {},
     "output_type": "execute_result"
    }
   ],
   "source": [
    "r"
   ]
  },
  {
   "cell_type": "code",
   "execution_count": 43,
   "id": "d5ab9ac3",
   "metadata": {},
   "outputs": [
    {
     "data": {
      "text/plain": [
       "ResolverMatch(func=__main__.view, args=(), kwargs={'ano': '1999'}, url_name=None, app_names=[], namespaces=[], route=^turmas/(?P<ano>[0-9]{4})/$)"
      ]
     },
     "execution_count": 43,
     "metadata": {},
     "output_type": "execute_result"
    }
   ],
   "source": [
    "r.resolve('/turmas/1999/') # year will come back as a string. might need to change it to int in the view"
   ]
  },
  {
   "cell_type": "markdown",
   "id": "5af90c66",
   "metadata": {},
   "source": [
    "## Routing"
   ]
  },
  {
   "cell_type": "raw",
   "id": "859e0204",
   "metadata": {},
   "source": [
    "NoReverseMatch == Can't find a path/view based on a name being called as the view nickname"
   ]
  },
  {
   "cell_type": "markdown",
   "id": "2aa3a6e2",
   "metadata": {},
   "source": [
    "## Templates  "
   ]
  },
  {
   "cell_type": "raw",
   "id": "c0d41dee",
   "metadata": {},
   "source": [
    "Template Variables: {{ variavel-de-contexto.quem-é-issoa-aqui-dentro-do-objeto'variavel-de-contexto' }}\n",
    "\n",
    "{{ subscription.name }}\n",
    "\n",
    "ele tenta:\n",
    "\n",
    "1 - subscription['name'] (se nao for chave em um dict 'subscription', tenta:)\n",
    "2 - subscription.name (se nao for atributo do objeto subscription, tenta:)\n",
    "3 - subscription.name() (lembrando que nao tem como passar variavel. se for funcao sendo chamada, so pode funcao que nao precise de parametros)\n",
    "\n",
    "Template Filters: do pipe em diante: {{ subscription.created_at|date:\"d/m/Y\" }}\n",
    "\n",
    "date = filtro\n",
    "d/m/Y = parametro enviado pro filtro\n",
    "\n",
    "(da pra criar seu proprio template filter)\n",
    "\n",
    "da pra colocar filter dntro de filter:\n",
    "\n",
    "{{ text|escape|linebreaks }}\n",
    "{{ text|truncatewords:\"30\" }}\n",
    "\n",
    "Template Tags: \n",
    "simples: (não possui sub-nós)\n",
    "{% static %}\n",
    "complexo: (possui sub-nós)\n",
    "{% if subscription.phone %}\n",
    "{% else %}\n",
    "{% endif %}"
   ]
  },
  {
   "cell_type": "raw",
   "id": "5b577b91",
   "metadata": {},
   "source": [
    "Template Nodes:\n",
    "\n",
    "Django cria um objeto template na memoria e dentro do objeto ele gera nodes.\n",
    "Os nodes sao:\n",
    "(node1)\n",
    "<!DOCTYPE HTML ....\n",
    "...<h1> parabéns(fim node1)(inicio node2){{ subscription.name }}(fim node2)(inicio node 3)texto texto texto\n",
    "fim3, inicio 4{{ if }}{{ else }}{{ endif }}fim node4, inicio5, etc"
   ]
  },
  {
   "cell_type": "markdown",
   "id": "e5571772",
   "metadata": {},
   "source": [
    "# Forms"
   ]
  },
  {
   "cell_type": "raw",
   "id": "470ee891",
   "metadata": {},
   "source": [
    "form = responsavel pelo pipeline de VALIDACAO\n",
    "fields = valida dados da requisicao e os converte para tipos python\n",
    "widget = expoem os dados como controles html e sabe como obter os dados da requisicao para o pipe line\n",
    "\n",
    "Bounded form = conectado a dados (podem ser validados)\n",
    "SubscriptionForm(request.POST)\n",
    "\n",
    "Unbounded form = form vazio ou editando dados que ja exitem (nao podem ser validados)\n",
    "SubscriptionForm()"
   ]
  },
  {
   "cell_type": "raw",
   "id": "f72b055a",
   "metadata": {},
   "source": [
    "Dentro do form.is_valid():\n",
    "\n",
    "se Form for bounded\n",
    "1 - Form full_clean()\n",
    "2 - para cada Field é executado:\n",
    "-- clean() do Field\n",
    "--- to_python\n",
    "--- validators\n",
    "-- metodo clean_* se existir no Form\n",
    "3 - Form clean()\n",
    "4 - gera um dicionario de errors ou cleaned_data"
   ]
  },
  {
   "cell_type": "code",
   "execution_count": 1,
   "id": "378cbde0",
   "metadata": {},
   "outputs": [],
   "source": [
    "from django import forms"
   ]
  },
  {
   "cell_type": "code",
   "execution_count": 2,
   "id": "b727ed27",
   "metadata": {},
   "outputs": [],
   "source": [
    "class AccountForm(forms.Form):\n",
    "    what = forms.CharField(max_length=255)\n",
    "    howmuch = forms.DecimalField(decimal_places=2)\n",
    "    when = forms.SplitDateTimeField()"
   ]
  },
  {
   "cell_type": "code",
   "execution_count": 3,
   "id": "828113f4",
   "metadata": {},
   "outputs": [],
   "source": [
    "form = AccountForm()"
   ]
  },
  {
   "cell_type": "code",
   "execution_count": 16,
   "id": "392a35e9",
   "metadata": {},
   "outputs": [
    {
     "name": "stdout",
     "output_type": "stream",
     "text": [
      "<p><label for=\"id_what\">What:</label> <input type=\"text\" name=\"what\" value=\"Megasena\" maxlength=\"255\" required id=\"id_what\"></p>\n",
      "<p><label for=\"id_howmuch\">Howmuch:</label> <input type=\"number\" name=\"howmuch\" value=\"1.99\" step=\"0.01\" required id=\"id_howmuch\"></p>\n",
      "<p><label for=\"id_when_0\">When:</label> <input type=\"text\" name=\"when_0\" value=\"01/06/2016\" required id=\"id_when_0\"><input type=\"text\" name=\"when_1\" value=\"12:30\" required id=\"id_when_1\"></p>\n"
     ]
    }
   ],
   "source": [
    "print(form.as_p())\n",
    "# FORM PURO E VAZIO"
   ]
  },
  {
   "cell_type": "code",
   "execution_count": 5,
   "id": "2df8ad89",
   "metadata": {},
   "outputs": [
    {
     "name": "stdout",
     "output_type": "stream",
     "text": [
      "<input type=\"text\" name=\"what\" maxlength=\"255\" required id=\"id_what\">\n",
      "<input type=\"number\" name=\"howmuch\" step=\"0.01\" required id=\"id_howmuch\">\n",
      "<input type=\"text\" name=\"when_0\" required id=\"id_when_0\"><input type=\"text\" name=\"when_1\" required id=\"id_when_1\">\n"
     ]
    }
   ],
   "source": [
    "for field in form: print(str(field))"
   ]
  },
  {
   "cell_type": "markdown",
   "id": "1a419289",
   "metadata": {},
   "source": [
    "## Valid Data"
   ]
  },
  {
   "cell_type": "code",
   "execution_count": 6,
   "id": "1a570038",
   "metadata": {},
   "outputs": [],
   "source": [
    "VALID = dict(what='Megasena', howmuch = '1.99', when_0='01/06/2016', when_1='12:30')"
   ]
  },
  {
   "cell_type": "code",
   "execution_count": 7,
   "id": "bc575719",
   "metadata": {},
   "outputs": [
    {
     "data": {
      "text/plain": [
       "{'what': 'Megasena',\n",
       " 'howmuch': '1.99',\n",
       " 'when_0': '01/06/2016',\n",
       " 'when_1': '12:30'}"
      ]
     },
     "execution_count": 7,
     "metadata": {},
     "output_type": "execute_result"
    }
   ],
   "source": [
    "VALID"
   ]
  },
  {
   "cell_type": "code",
   "execution_count": 8,
   "id": "57bb9e46",
   "metadata": {},
   "outputs": [],
   "source": [
    "form = AccountForm(VALID)"
   ]
  },
  {
   "cell_type": "code",
   "execution_count": 9,
   "id": "b959cccc",
   "metadata": {},
   "outputs": [
    {
     "data": {
      "text/plain": [
       "True"
      ]
     },
     "execution_count": 9,
     "metadata": {},
     "output_type": "execute_result"
    }
   ],
   "source": [
    "form.is_bound"
   ]
  },
  {
   "cell_type": "code",
   "execution_count": 10,
   "id": "66ce8fc7",
   "metadata": {},
   "outputs": [
    {
     "data": {
      "text/plain": [
       "True"
      ]
     },
     "execution_count": 10,
     "metadata": {},
     "output_type": "execute_result"
    }
   ],
   "source": [
    "form.is_valid()"
   ]
  },
  {
   "cell_type": "code",
   "execution_count": 11,
   "id": "5fbeb5ae",
   "metadata": {},
   "outputs": [
    {
     "data": {
      "text/plain": [
       "{'what': 'Megasena',\n",
       " 'howmuch': Decimal('1.99'),\n",
       " 'when': datetime.datetime(2016, 6, 1, 12, 30, tzinfo=<UTC>)}"
      ]
     },
     "execution_count": 11,
     "metadata": {},
     "output_type": "execute_result"
    }
   ],
   "source": [
    "form.cleaned_data"
   ]
  },
  {
   "cell_type": "code",
   "execution_count": 12,
   "id": "8edff43d",
   "metadata": {},
   "outputs": [
    {
     "data": {
      "text/plain": [
       "{}"
      ]
     },
     "execution_count": 12,
     "metadata": {},
     "output_type": "execute_result"
    }
   ],
   "source": [
    "form.errors"
   ]
  },
  {
   "cell_type": "code",
   "execution_count": 14,
   "id": "d6b099ae",
   "metadata": {},
   "outputs": [
    {
     "name": "stdout",
     "output_type": "stream",
     "text": [
      "<p><label for=\"id_what\">What:</label> <input type=\"text\" name=\"what\" value=\"Megasena\" maxlength=\"255\" required id=\"id_what\"></p>\n",
      "<p><label for=\"id_howmuch\">Howmuch:</label> <input type=\"number\" name=\"howmuch\" value=\"1.99\" step=\"0.01\" required id=\"id_howmuch\"></p>\n",
      "<p><label for=\"id_when_0\">When:</label> <input type=\"text\" name=\"when_0\" value=\"01/06/2016\" required id=\"id_when_0\"><input type=\"text\" name=\"when_1\" value=\"12:30\" required id=\"id_when_1\"></p>\n"
     ]
    }
   ],
   "source": [
    "print(form.as_p())\n",
    "# AGORA PREENCHIDO"
   ]
  },
  {
   "cell_type": "code",
   "execution_count": 17,
   "id": "de105539",
   "metadata": {},
   "outputs": [
    {
     "name": "stdout",
     "output_type": "stream",
     "text": [
      "<input type=\"text\" name=\"what\" value=\"Megasena\" maxlength=\"255\" required id=\"id_what\">\n",
      "<input type=\"number\" name=\"howmuch\" value=\"1.99\" step=\"0.01\" required id=\"id_howmuch\">\n",
      "<input type=\"text\" name=\"when_0\" value=\"01/06/2016\" required id=\"id_when_0\"><input type=\"text\" name=\"when_1\" value=\"12:30\" required id=\"id_when_1\">\n"
     ]
    }
   ],
   "source": [
    "for field in form: print(field)"
   ]
  },
  {
   "cell_type": "markdown",
   "id": "03a299f3",
   "metadata": {},
   "source": [
    "## Invalid Data"
   ]
  },
  {
   "cell_type": "code",
   "execution_count": 18,
   "id": "8efffb85",
   "metadata": {},
   "outputs": [],
   "source": [
    "INVALID = dict(what='Megasena', howmuch='INVALID', when_0='01/06/2016', when_1='12:30')"
   ]
  },
  {
   "cell_type": "code",
   "execution_count": 19,
   "id": "6c7ffcd2",
   "metadata": {},
   "outputs": [
    {
     "data": {
      "text/plain": [
       "{'what': 'Megasena',\n",
       " 'howmuch': 'INVALID',\n",
       " 'when_0': '01/06/2016',\n",
       " 'when_1': '12:30'}"
      ]
     },
     "execution_count": 19,
     "metadata": {},
     "output_type": "execute_result"
    }
   ],
   "source": [
    "INVALID"
   ]
  },
  {
   "cell_type": "code",
   "execution_count": 20,
   "id": "35e04e60",
   "metadata": {},
   "outputs": [],
   "source": [
    "form = AccountForm(INVALID)"
   ]
  },
  {
   "cell_type": "code",
   "execution_count": 21,
   "id": "e0b1cd9c",
   "metadata": {},
   "outputs": [
    {
     "data": {
      "text/plain": [
       "True"
      ]
     },
     "execution_count": 21,
     "metadata": {},
     "output_type": "execute_result"
    }
   ],
   "source": [
    "form.is_bound"
   ]
  },
  {
   "cell_type": "code",
   "execution_count": 22,
   "id": "9d0bf3bf",
   "metadata": {},
   "outputs": [
    {
     "data": {
      "text/plain": [
       "False"
      ]
     },
     "execution_count": 22,
     "metadata": {},
     "output_type": "execute_result"
    }
   ],
   "source": [
    "form.is_valid()"
   ]
  },
  {
   "cell_type": "code",
   "execution_count": 23,
   "id": "f1ccb721",
   "metadata": {},
   "outputs": [
    {
     "data": {
      "text/plain": [
       "{'what': 'Megasena',\n",
       " 'when': datetime.datetime(2016, 6, 1, 12, 30, tzinfo=<UTC>)}"
      ]
     },
     "execution_count": 23,
     "metadata": {},
     "output_type": "execute_result"
    }
   ],
   "source": [
    "form.cleaned_data"
   ]
  },
  {
   "cell_type": "code",
   "execution_count": 24,
   "id": "614e8391",
   "metadata": {},
   "outputs": [
    {
     "data": {
      "text/plain": [
       "{'howmuch': ['Informe um número.']}"
      ]
     },
     "execution_count": 24,
     "metadata": {},
     "output_type": "execute_result"
    }
   ],
   "source": [
    "form.errors"
   ]
  },
  {
   "cell_type": "code",
   "execution_count": 25,
   "id": "1ab1b05b",
   "metadata": {},
   "outputs": [
    {
     "data": {
      "text/plain": [
       "django.forms.utils.ErrorDict"
      ]
     },
     "execution_count": 25,
     "metadata": {},
     "output_type": "execute_result"
    }
   ],
   "source": [
    "type(form.errors)"
   ]
  },
  {
   "cell_type": "code",
   "execution_count": 26,
   "id": "ab399d38",
   "metadata": {},
   "outputs": [
    {
     "data": {
      "text/plain": [
       "django.forms.utils.ErrorList"
      ]
     },
     "execution_count": 26,
     "metadata": {},
     "output_type": "execute_result"
    }
   ],
   "source": [
    "type(form.errors['howmuch'])"
   ]
  },
  {
   "cell_type": "code",
   "execution_count": 30,
   "id": "1cb1c691",
   "metadata": {},
   "outputs": [
    {
     "name": "stdout",
     "output_type": "stream",
     "text": [
      "<ul class=\"errorlist\"><li>howmuch<ul class=\"errorlist\"><li>Informe um número.</li></ul></li></ul>\n"
     ]
    }
   ],
   "source": [
    "print(form.errors)\n",
    "# mostra erro de qqr campo q esteja errado. use no template pra imprimir ul com varias ul dentro dela"
   ]
  },
  {
   "cell_type": "code",
   "execution_count": 31,
   "id": "bbcc2452",
   "metadata": {},
   "outputs": [
    {
     "name": "stdout",
     "output_type": "stream",
     "text": [
      "<ul class=\"errorlist\"><li>Informe um número.</li></ul>\n"
     ]
    }
   ],
   "source": [
    "print(form.errors['howmuch'])\n",
    "# so o erro do howmuch"
   ]
  },
  {
   "cell_type": "code",
   "execution_count": 32,
   "id": "dec5ffcd",
   "metadata": {},
   "outputs": [
    {
     "data": {
      "text/plain": [
       "{'howmuch': [ValidationError(['Informe um número.'])]}"
      ]
     },
     "execution_count": 32,
     "metadata": {},
     "output_type": "execute_result"
    }
   ],
   "source": [
    "form.errors.as_data()"
   ]
  },
  {
   "cell_type": "code",
   "execution_count": 33,
   "id": "c47ef9fc",
   "metadata": {},
   "outputs": [
    {
     "name": "stdout",
     "output_type": "stream",
     "text": [
      "<p><label for=\"id_what\">What:</label> <input type=\"text\" name=\"what\" value=\"Megasena\" maxlength=\"255\" required id=\"id_what\"></p>\n",
      "<ul class=\"errorlist\"><li>Informe um número.</li></ul>\n",
      "<p><label for=\"id_howmuch\">Howmuch:</label> <input type=\"number\" name=\"howmuch\" value=\"INVALID\" step=\"0.01\" required id=\"id_howmuch\"></p>\n",
      "<p><label for=\"id_when_0\">When:</label> <input type=\"text\" name=\"when_0\" value=\"01/06/2016\" required id=\"id_when_0\"><input type=\"text\" name=\"when_1\" value=\"12:30\" required id=\"id_when_1\"></p>\n"
     ]
    }
   ],
   "source": [
    "print(form.as_p())"
   ]
  },
  {
   "cell_type": "code",
   "execution_count": 36,
   "id": "197a114b",
   "metadata": {},
   "outputs": [
    {
     "name": "stdout",
     "output_type": "stream",
     "text": [
      "<input type=\"text\" name=\"what\" value=\"Megasena\" maxlength=\"255\" required id=\"id_what\">\n",
      "<input type=\"number\" name=\"howmuch\" value=\"INVALID\" step=\"0.01\" required id=\"id_howmuch\">\n",
      "<input type=\"text\" name=\"when_0\" value=\"01/06/2016\" required id=\"id_when_0\"><input type=\"text\" name=\"when_1\" value=\"12:30\" required id=\"id_when_1\">\n"
     ]
    }
   ],
   "source": [
    "for field in form: print(field)"
   ]
  },
  {
   "cell_type": "code",
   "execution_count": 37,
   "id": "9f5fd2bb",
   "metadata": {},
   "outputs": [
    {
     "name": "stdout",
     "output_type": "stream",
     "text": [
      "<input type=\"text\" name=\"what\" value=\"Megasena\" maxlength=\"255\" required id=\"id_what\"> \n",
      "<input type=\"number\" name=\"howmuch\" value=\"INVALID\" step=\"0.01\" required id=\"id_howmuch\"> <ul class=\"errorlist\"><li>Informe um número.</li></ul>\n",
      "<input type=\"text\" name=\"when_0\" value=\"01/06/2016\" required id=\"id_when_0\"><input type=\"text\" name=\"when_1\" value=\"12:30\" required id=\"id_when_1\"> \n"
     ]
    }
   ],
   "source": [
    "for field in form: print(field, field.errors)"
   ]
  },
  {
   "cell_type": "markdown",
   "id": "2de40933",
   "metadata": {},
   "source": [
    "## Bound Field vs Field"
   ]
  },
  {
   "cell_type": "code",
   "execution_count": 38,
   "id": "ca1af18a",
   "metadata": {},
   "outputs": [],
   "source": [
    "boundfield, field = form['howmuch'], form.fields['howmuch']"
   ]
  },
  {
   "cell_type": "code",
   "execution_count": 39,
   "id": "eaca89ed",
   "metadata": {},
   "outputs": [
    {
     "data": {
      "text/plain": [
       "(<django.forms.boundfield.BoundField at 0x1113c49d0>,\n",
       " <django.forms.fields.DecimalField at 0x1113d3f70>)"
      ]
     },
     "execution_count": 39,
     "metadata": {},
     "output_type": "execute_result"
    }
   ],
   "source": [
    "boundfield, field"
   ]
  },
  {
   "cell_type": "code",
   "execution_count": 40,
   "id": "dfe507a1",
   "metadata": {},
   "outputs": [
    {
     "data": {
      "text/plain": [
       "'<input type=\"number\" name=\"howmuch\" value=\"INVALID\" step=\"0.01\" required id=\"id_howmuch\">'"
      ]
     },
     "execution_count": 40,
     "metadata": {},
     "output_type": "execute_result"
    }
   ],
   "source": [
    "str(boundfield)\n",
    "# possui html renderizado"
   ]
  },
  {
   "cell_type": "code",
   "execution_count": 42,
   "id": "057d56fa",
   "metadata": {},
   "outputs": [
    {
     "data": {
      "text/plain": [
       "'<django.forms.fields.DecimalField object at 0x1113d3f70>'"
      ]
     },
     "execution_count": 42,
     "metadata": {},
     "output_type": "execute_result"
    }
   ],
   "source": [
    "str(field)\n",
    "# so um objeto. mas é ele quem tem cleaned data"
   ]
  },
  {
   "cell_type": "code",
   "execution_count": 43,
   "id": "c605fcfd",
   "metadata": {},
   "outputs": [
    {
     "data": {
      "text/plain": [
       "Decimal('1.99')"
      ]
     },
     "execution_count": 43,
     "metadata": {},
     "output_type": "execute_result"
    }
   ],
   "source": [
    "field.clean('1.99')"
   ]
  },
  {
   "cell_type": "code",
   "execution_count": 44,
   "id": "7f92994d",
   "metadata": {},
   "outputs": [
    {
     "ename": "ValidationError",
     "evalue": "['Informe um número.']",
     "output_type": "error",
     "traceback": [
      "\u001b[0;31m---------------------------------------------------------------------------\u001b[0m",
      "\u001b[0;31mInvalidOperation\u001b[0m                          Traceback (most recent call last)",
      "\u001b[0;32m~/Documents/+PRO/+CODING/+WTTD/3-WTTD/wttd/.wttd/lib/python3.9/site-packages/django/forms/fields.py\u001b[0m in \u001b[0;36mto_python\u001b[0;34m(self, value)\u001b[0m\n\u001b[1;32m    347\u001b[0m         \u001b[0;32mtry\u001b[0m\u001b[0;34m:\u001b[0m\u001b[0;34m\u001b[0m\u001b[0;34m\u001b[0m\u001b[0m\n\u001b[0;32m--> 348\u001b[0;31m             \u001b[0mvalue\u001b[0m \u001b[0;34m=\u001b[0m \u001b[0mDecimal\u001b[0m\u001b[0;34m(\u001b[0m\u001b[0mvalue\u001b[0m\u001b[0;34m)\u001b[0m\u001b[0;34m\u001b[0m\u001b[0;34m\u001b[0m\u001b[0m\n\u001b[0m\u001b[1;32m    349\u001b[0m         \u001b[0;32mexcept\u001b[0m \u001b[0mDecimalException\u001b[0m\u001b[0;34m:\u001b[0m\u001b[0;34m\u001b[0m\u001b[0;34m\u001b[0m\u001b[0m\n",
      "\u001b[0;31mInvalidOperation\u001b[0m: [<class 'decimal.ConversionSyntax'>]",
      "\nDuring handling of the above exception, another exception occurred:\n",
      "\u001b[0;31mValidationError\u001b[0m                           Traceback (most recent call last)",
      "\u001b[0;32m/var/folders/2k/j62cd0cd6tn_ylyy06_dvvmc0000gn/T/ipykernel_47476/4088795204.py\u001b[0m in \u001b[0;36m<module>\u001b[0;34m\u001b[0m\n\u001b[0;32m----> 1\u001b[0;31m \u001b[0mfield\u001b[0m\u001b[0;34m.\u001b[0m\u001b[0mclean\u001b[0m\u001b[0;34m(\u001b[0m\u001b[0;34m'INVALID'\u001b[0m\u001b[0;34m)\u001b[0m\u001b[0;34m\u001b[0m\u001b[0;34m\u001b[0m\u001b[0m\n\u001b[0m",
      "\u001b[0;32m~/Documents/+PRO/+CODING/+WTTD/3-WTTD/wttd/.wttd/lib/python3.9/site-packages/django/forms/fields.py\u001b[0m in \u001b[0;36mclean\u001b[0;34m(self, value)\u001b[0m\n\u001b[1;32m    147\u001b[0m         \u001b[0mappropriate\u001b[0m \u001b[0mPython\u001b[0m \u001b[0mobject\u001b[0m\u001b[0;34m.\u001b[0m \u001b[0mRaise\u001b[0m \u001b[0mValidationError\u001b[0m \u001b[0;32mfor\u001b[0m \u001b[0many\u001b[0m \u001b[0merrors\u001b[0m\u001b[0;34m.\u001b[0m\u001b[0;34m\u001b[0m\u001b[0;34m\u001b[0m\u001b[0m\n\u001b[1;32m    148\u001b[0m         \"\"\"\n\u001b[0;32m--> 149\u001b[0;31m         \u001b[0mvalue\u001b[0m \u001b[0;34m=\u001b[0m \u001b[0mself\u001b[0m\u001b[0;34m.\u001b[0m\u001b[0mto_python\u001b[0m\u001b[0;34m(\u001b[0m\u001b[0mvalue\u001b[0m\u001b[0;34m)\u001b[0m\u001b[0;34m\u001b[0m\u001b[0;34m\u001b[0m\u001b[0m\n\u001b[0m\u001b[1;32m    150\u001b[0m         \u001b[0mself\u001b[0m\u001b[0;34m.\u001b[0m\u001b[0mvalidate\u001b[0m\u001b[0;34m(\u001b[0m\u001b[0mvalue\u001b[0m\u001b[0;34m)\u001b[0m\u001b[0;34m\u001b[0m\u001b[0;34m\u001b[0m\u001b[0m\n\u001b[1;32m    151\u001b[0m         \u001b[0mself\u001b[0m\u001b[0;34m.\u001b[0m\u001b[0mrun_validators\u001b[0m\u001b[0;34m(\u001b[0m\u001b[0mvalue\u001b[0m\u001b[0;34m)\u001b[0m\u001b[0;34m\u001b[0m\u001b[0;34m\u001b[0m\u001b[0m\n",
      "\u001b[0;32m~/Documents/+PRO/+CODING/+WTTD/3-WTTD/wttd/.wttd/lib/python3.9/site-packages/django/forms/fields.py\u001b[0m in \u001b[0;36mto_python\u001b[0;34m(self, value)\u001b[0m\n\u001b[1;32m    348\u001b[0m             \u001b[0mvalue\u001b[0m \u001b[0;34m=\u001b[0m \u001b[0mDecimal\u001b[0m\u001b[0;34m(\u001b[0m\u001b[0mvalue\u001b[0m\u001b[0;34m)\u001b[0m\u001b[0;34m\u001b[0m\u001b[0;34m\u001b[0m\u001b[0m\n\u001b[1;32m    349\u001b[0m         \u001b[0;32mexcept\u001b[0m \u001b[0mDecimalException\u001b[0m\u001b[0;34m:\u001b[0m\u001b[0;34m\u001b[0m\u001b[0;34m\u001b[0m\u001b[0m\n\u001b[0;32m--> 350\u001b[0;31m             \u001b[0;32mraise\u001b[0m \u001b[0mValidationError\u001b[0m\u001b[0;34m(\u001b[0m\u001b[0mself\u001b[0m\u001b[0;34m.\u001b[0m\u001b[0merror_messages\u001b[0m\u001b[0;34m[\u001b[0m\u001b[0;34m'invalid'\u001b[0m\u001b[0;34m]\u001b[0m\u001b[0;34m,\u001b[0m \u001b[0mcode\u001b[0m\u001b[0;34m=\u001b[0m\u001b[0;34m'invalid'\u001b[0m\u001b[0;34m)\u001b[0m\u001b[0;34m\u001b[0m\u001b[0;34m\u001b[0m\u001b[0m\n\u001b[0m\u001b[1;32m    351\u001b[0m         \u001b[0;32mreturn\u001b[0m \u001b[0mvalue\u001b[0m\u001b[0;34m\u001b[0m\u001b[0;34m\u001b[0m\u001b[0m\n\u001b[1;32m    352\u001b[0m \u001b[0;34m\u001b[0m\u001b[0m\n",
      "\u001b[0;31mValidationError\u001b[0m: ['Informe um número.']"
     ]
    }
   ],
   "source": [
    "field.clean('INVALID')"
   ]
  },
  {
   "cell_type": "code",
   "execution_count": 45,
   "id": "0dfc22d0",
   "metadata": {},
   "outputs": [],
   "source": [
    "boundfield = form['when']"
   ]
  },
  {
   "cell_type": "code",
   "execution_count": 46,
   "id": "781a91d7",
   "metadata": {},
   "outputs": [
    {
     "data": {
      "text/plain": [
       "'when'"
      ]
     },
     "execution_count": 46,
     "metadata": {},
     "output_type": "execute_result"
    }
   ],
   "source": [
    "boundfield.name"
   ]
  },
  {
   "cell_type": "code",
   "execution_count": 47,
   "id": "e47312e6",
   "metadata": {},
   "outputs": [
    {
     "data": {
      "text/plain": [
       "'When'"
      ]
     },
     "execution_count": 47,
     "metadata": {},
     "output_type": "execute_result"
    }
   ],
   "source": [
    "boundfield.label"
   ]
  },
  {
   "cell_type": "code",
   "execution_count": 48,
   "id": "1324a5f3",
   "metadata": {},
   "outputs": [
    {
     "data": {
      "text/plain": [
       "[]"
      ]
     },
     "execution_count": 48,
     "metadata": {},
     "output_type": "execute_result"
    }
   ],
   "source": [
    "boundfield.errors"
   ]
  },
  {
   "cell_type": "code",
   "execution_count": 49,
   "id": "0e2bdb50",
   "metadata": {},
   "outputs": [
    {
     "data": {
      "text/plain": [
       "['01/06/2016', '12:30']"
      ]
     },
     "execution_count": 49,
     "metadata": {},
     "output_type": "execute_result"
    }
   ],
   "source": [
    "boundfield.data # extrai dados do dicionario de dados, do bounded data"
   ]
  },
  {
   "cell_type": "code",
   "execution_count": 50,
   "id": "35e82207",
   "metadata": {},
   "outputs": [
    {
     "data": {
      "text/plain": [
       "['01/06/2016', '12:30']"
      ]
     },
     "execution_count": 50,
     "metadata": {},
     "output_type": "execute_result"
    }
   ],
   "source": [
    "boundfield.value() # renderiza widget"
   ]
  },
  {
   "cell_type": "code",
   "execution_count": 51,
   "id": "f9250877",
   "metadata": {},
   "outputs": [
    {
     "data": {
      "text/plain": [
       "<django.forms.fields.SplitDateTimeField at 0x1113d3100>"
      ]
     },
     "execution_count": 51,
     "metadata": {},
     "output_type": "execute_result"
    }
   ],
   "source": [
    "boundfield.field"
   ]
  },
  {
   "cell_type": "code",
   "execution_count": 54,
   "id": "24590115",
   "metadata": {},
   "outputs": [],
   "source": [
    "# ou seja: qdo vc passa no html {{ form.when }} equivale a: form['when']"
   ]
  },
  {
   "cell_type": "code",
   "execution_count": 55,
   "id": "8a74dccd",
   "metadata": {},
   "outputs": [
    {
     "data": {
      "text/plain": [
       "'<input type=\"text\" name=\"when_0\" value=\"01/06/2016\" required id=\"id_when_0\"><input type=\"text\" name=\"when_1\" value=\"12:30\" required id=\"id_when_1\">'"
      ]
     },
     "execution_count": 55,
     "metadata": {},
     "output_type": "execute_result"
    }
   ],
   "source": [
    "str(boundfield)"
   ]
  },
  {
   "cell_type": "code",
   "execution_count": 56,
   "id": "c7eb4916",
   "metadata": {},
   "outputs": [
    {
     "data": {
      "text/plain": [
       "'<input type=\"text\" name=\"when_0\" value=\"01/06/2016\" required id=\"id_when_0\"><input type=\"text\" name=\"when_1\" value=\"12:30\" required id=\"id_when_1\">'"
      ]
     },
     "execution_count": 56,
     "metadata": {},
     "output_type": "execute_result"
    }
   ],
   "source": [
    "boundfield.as_widget()"
   ]
  },
  {
   "cell_type": "code",
   "execution_count": 58,
   "id": "72c4e874",
   "metadata": {},
   "outputs": [],
   "source": [
    "field = boundfield.field"
   ]
  },
  {
   "cell_type": "code",
   "execution_count": 59,
   "id": "da52cb21",
   "metadata": {},
   "outputs": [],
   "source": [
    "widget = field.widget"
   ]
  },
  {
   "cell_type": "code",
   "execution_count": 60,
   "id": "f6e13857",
   "metadata": {},
   "outputs": [
    {
     "data": {
      "text/plain": [
       "(<django.forms.fields.SplitDateTimeField at 0x1113d3100>,\n",
       " <django.forms.widgets.SplitDateTimeWidget at 0x1113d3940>,\n",
       " <django.forms.boundfield.BoundField at 0x1113c46a0>)"
      ]
     },
     "execution_count": 60,
     "metadata": {},
     "output_type": "execute_result"
    }
   ],
   "source": [
    "field, widget, boundfield"
   ]
  },
  {
   "cell_type": "code",
   "execution_count": 61,
   "id": "588781f4",
   "metadata": {},
   "outputs": [
    {
     "data": {
      "text/plain": [
       "'<input type=\"text\" name=\"when_0\"><input type=\"text\" name=\"when_1\">'"
      ]
     },
     "execution_count": 61,
     "metadata": {},
     "output_type": "execute_result"
    }
   ],
   "source": [
    "widget.render('when', None)"
   ]
  },
  {
   "cell_type": "code",
   "execution_count": 62,
   "id": "e1970c22",
   "metadata": {},
   "outputs": [],
   "source": [
    "from django.utils.timezone import datetime"
   ]
  },
  {
   "cell_type": "code",
   "execution_count": 63,
   "id": "5bb27787",
   "metadata": {},
   "outputs": [
    {
     "data": {
      "text/plain": [
       "'<input type=\"text\" name=\"when_0\" value=\"01/06/2016\"><input type=\"text\" name=\"when_1\" value=\"12:30:00\">'"
      ]
     },
     "execution_count": 63,
     "metadata": {},
     "output_type": "execute_result"
    }
   ],
   "source": [
    "widget.render('when', datetime(2016, 6, 1, 12, 30))"
   ]
  },
  {
   "cell_type": "code",
   "execution_count": 64,
   "id": "0c41cd5e",
   "metadata": {},
   "outputs": [
    {
     "data": {
      "text/plain": [
       "{'what': 'Megasena',\n",
       " 'howmuch': 'INVALID',\n",
       " 'when_0': '01/06/2016',\n",
       " 'when_1': '12:30'}"
      ]
     },
     "execution_count": 64,
     "metadata": {},
     "output_type": "execute_result"
    }
   ],
   "source": [
    "form.data"
   ]
  },
  {
   "cell_type": "code",
   "execution_count": 66,
   "id": "8c63e8b9",
   "metadata": {},
   "outputs": [
    {
     "data": {
      "text/plain": [
       "['01/06/2016', '12:30']"
      ]
     },
     "execution_count": 66,
     "metadata": {},
     "output_type": "execute_result"
    }
   ],
   "source": [
    "widget.value_from_datadict(form.data, form.files, 'when')"
   ]
  },
  {
   "cell_type": "code",
   "execution_count": 68,
   "id": "c0a24851",
   "metadata": {},
   "outputs": [
    {
     "data": {
      "text/plain": [
       "datetime.datetime(2016, 6, 1, 12, 30, tzinfo=<UTC>)"
      ]
     },
     "execution_count": 68,
     "metadata": {},
     "output_type": "execute_result"
    }
   ],
   "source": [
    "field.clean(widget.value_from_datadict(form.data, form.files, 'when'))"
   ]
  },
  {
   "cell_type": "markdown",
   "id": "28095c14",
   "metadata": {},
   "source": [
    "## Render formulario vazio"
   ]
  },
  {
   "cell_type": "code",
   "execution_count": 70,
   "id": "36955a06",
   "metadata": {},
   "outputs": [],
   "source": [
    "form = AccountForm()"
   ]
  },
  {
   "cell_type": "code",
   "execution_count": 71,
   "id": "673f3017",
   "metadata": {},
   "outputs": [
    {
     "data": {
      "text/plain": [
       "False"
      ]
     },
     "execution_count": 71,
     "metadata": {},
     "output_type": "execute_result"
    }
   ],
   "source": [
    "form.is_bound"
   ]
  },
  {
   "cell_type": "code",
   "execution_count": 72,
   "id": "4ac0baa7",
   "metadata": {},
   "outputs": [
    {
     "data": {
      "text/plain": [
       "False"
      ]
     },
     "execution_count": 72,
     "metadata": {},
     "output_type": "execute_result"
    }
   ],
   "source": [
    "form.is_valid()"
   ]
  },
  {
   "cell_type": "code",
   "execution_count": 73,
   "id": "91d097f9",
   "metadata": {},
   "outputs": [
    {
     "name": "stdout",
     "output_type": "stream",
     "text": [
      "<input type=\"text\" name=\"what\" maxlength=\"255\" required id=\"id_what\">\n",
      "<input type=\"number\" name=\"howmuch\" step=\"0.01\" required id=\"id_howmuch\">\n",
      "<input type=\"text\" name=\"when_0\" required id=\"id_when_0\"><input type=\"text\" name=\"when_1\" required id=\"id_when_1\">\n"
     ]
    }
   ],
   "source": [
    "for boundform in form: print(boundform)"
   ]
  },
  {
   "cell_type": "markdown",
   "id": "0600433c",
   "metadata": {},
   "source": [
    "## Render com dados iniciais (unbounded - traz dados + edição de dados no banco)"
   ]
  },
  {
   "cell_type": "code",
   "execution_count": 74,
   "id": "f232512e",
   "metadata": {},
   "outputs": [],
   "source": [
    "INITIAL = dict(what='megasena', howmuch='1.99')"
   ]
  },
  {
   "cell_type": "code",
   "execution_count": 75,
   "id": "b3d640e3",
   "metadata": {},
   "outputs": [],
   "source": [
    "form = AccountForm(initial=INITIAL)"
   ]
  },
  {
   "cell_type": "code",
   "execution_count": 76,
   "id": "651ef681",
   "metadata": {},
   "outputs": [
    {
     "data": {
      "text/plain": [
       "False"
      ]
     },
     "execution_count": 76,
     "metadata": {},
     "output_type": "execute_result"
    }
   ],
   "source": [
    "form.is_bound"
   ]
  },
  {
   "cell_type": "code",
   "execution_count": 77,
   "id": "ad6a86ed",
   "metadata": {},
   "outputs": [
    {
     "data": {
      "text/plain": [
       "False"
      ]
     },
     "execution_count": 77,
     "metadata": {},
     "output_type": "execute_result"
    }
   ],
   "source": [
    "form.is_valid()"
   ]
  },
  {
   "cell_type": "code",
   "execution_count": 78,
   "id": "8817f335",
   "metadata": {},
   "outputs": [
    {
     "data": {
      "text/plain": [
       "False"
      ]
     },
     "execution_count": 78,
     "metadata": {},
     "output_type": "execute_result"
    }
   ],
   "source": [
    "hasattr(form, 'cleaned_data')"
   ]
  },
  {
   "cell_type": "code",
   "execution_count": 79,
   "id": "589c44ff",
   "metadata": {},
   "outputs": [
    {
     "name": "stdout",
     "output_type": "stream",
     "text": [
      "<input type=\"text\" name=\"what\" value=\"megasena\" maxlength=\"255\" required id=\"id_what\">\n",
      "<input type=\"number\" name=\"howmuch\" value=\"1.99\" step=\"0.01\" required id=\"id_howmuch\">\n",
      "<input type=\"text\" name=\"when_0\" required id=\"id_when_0\"><input type=\"text\" name=\"when_1\" required id=\"id_when_1\">\n"
     ]
    }
   ],
   "source": [
    "for boundfield in form: print(boundfield)"
   ]
  },
  {
   "cell_type": "markdown",
   "id": "5d6f0b2f",
   "metadata": {},
   "source": [
    "## DB Relantioships"
   ]
  },
  {
   "cell_type": "code",
   "execution_count": 3,
   "id": "314c3015",
   "metadata": {},
   "outputs": [
    {
     "data": {
      "text/plain": [
       "(eventex.core.models.Talk,\n",
       " eventex.core.models.Speaker,\n",
       " eventex.core.models.Contact)"
      ]
     },
     "execution_count": 3,
     "metadata": {},
     "output_type": "execute_result"
    }
   ],
   "source": [
    "Talk, Speaker, Contact"
   ]
  },
  {
   "cell_type": "code",
   "execution_count": 5,
   "id": "022dcc70",
   "metadata": {},
   "outputs": [],
   "source": [
    "from sqlformatter import logdb"
   ]
  },
  {
   "cell_type": "code",
   "execution_count": 8,
   "id": "c4fd1439",
   "metadata": {},
   "outputs": [],
   "source": [
    "# Speaker.objects.all() # run this under python manage.py shell_plus"
   ]
  },
  {
   "cell_type": "code",
   "execution_count": 9,
   "id": "0b023cfe",
   "metadata": {},
   "outputs": [
    {
     "data": {
      "text/plain": [
       "True"
      ]
     },
     "execution_count": 9,
     "metadata": {},
     "output_type": "execute_result"
    }
   ],
   "source": [
    "logdb() # turns it on"
   ]
  },
  {
   "cell_type": "code",
   "execution_count": 10,
   "id": "99b20f87",
   "metadata": {},
   "outputs": [
    {
     "data": {
      "text/plain": [
       "False"
      ]
     },
     "execution_count": 10,
     "metadata": {},
     "output_type": "execute_result"
    }
   ],
   "source": [
    "logdb() # run again to turn it off"
   ]
  },
  {
   "cell_type": "code",
   "execution_count": 11,
   "id": "62e0bc62",
   "metadata": {},
   "outputs": [
    {
     "data": {
      "text/plain": [
       "True"
      ]
     },
     "execution_count": 11,
     "metadata": {},
     "output_type": "execute_result"
    }
   ],
   "source": [
    "logdb()"
   ]
  },
  {
   "cell_type": "markdown",
   "id": "fc4b3426",
   "metadata": {},
   "source": [
    "<b>So...</b> \n",
    "\n",
    "select_related() = pega foreign key 1 pra 1\n",
    "\n",
    "prefetch_related() = pode pegar n pra n"
   ]
  },
  {
   "cell_type": "code",
   "execution_count": null,
   "id": "822fe2e5",
   "metadata": {},
   "outputs": [],
   "source": []
  }
 ],
 "metadata": {
  "kernelspec": {
   "display_name": "Django Shell-Plus",
   "language": "python",
   "name": "django_extensions"
  },
  "language_info": {
   "codemirror_mode": {
    "name": "ipython",
    "version": 3
   },
   "file_extension": ".py",
   "mimetype": "text/x-python",
   "name": "python",
   "nbconvert_exporter": "python",
   "pygments_lexer": "ipython3",
   "version": "3.9.7"
  }
 },
 "nbformat": 4,
 "nbformat_minor": 5
}
